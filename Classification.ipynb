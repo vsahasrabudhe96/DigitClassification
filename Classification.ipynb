{
 "cells": [
  {
   "cell_type": "code",
   "execution_count": 52,
   "metadata": {},
   "outputs": [],
   "source": [
    "import numpy as np\n",
    "import pandas as pd\n",
    "import matplotlib.pyplot as plt\n",
    "import seaborn as sns\n",
    "\n",
    "import keras\n",
    "from keras.models import Sequential,Model\n",
    "from keras.layers import Dropout,BatchNormalization,ReLU,Flatten,Input,Dense\n",
    "from keras.layers.convolutional import Conv2D\n",
    "from keras.layers.pooling import MaxPool2D\n",
    "from keras.activations import relu\n",
    "from keras.preprocessing.image import ImageDataGenerator\n",
    "from keras.callbacks import EarlyStopping,ReduceLROnPlateau\n",
    "from sklearn.model_selection import train_test_split\n",
    "from keras.utils.np_utils import to_categorical\n",
    "from keras.optimizers import Adam,RMSprop"
   ]
  },
  {
   "cell_type": "code",
   "execution_count": 3,
   "metadata": {},
   "outputs": [],
   "source": [
    "train = pd.read_csv('/home/varun/Downloads/Digits/train.csv')\n",
    "test = pd.read_csv('/home/varun/Downloads/Digits/test.csv')"
   ]
  },
  {
   "cell_type": "code",
   "execution_count": 5,
   "metadata": {},
   "outputs": [],
   "source": [
    "y_train = train['label']"
   ]
  },
  {
   "cell_type": "code",
   "execution_count": 6,
   "metadata": {},
   "outputs": [],
   "source": [
    "x_train = train.drop(labels='label',axis=1)"
   ]
  },
  {
   "cell_type": "code",
   "execution_count": 8,
   "metadata": {},
   "outputs": [],
   "source": [
    "x_train/=255.0\n",
    "test/=255.0"
   ]
  },
  {
   "cell_type": "code",
   "execution_count": 10,
   "metadata": {},
   "outputs": [],
   "source": [
    "y_train = to_categorical(y_train,num_classes=10)"
   ]
  },
  {
   "cell_type": "code",
   "execution_count": 13,
   "metadata": {},
   "outputs": [],
   "source": [
    "x_train = x_train.values.reshape(-1,28,28,1)\n",
    "test = test.values.reshape(-1,28,28,1)"
   ]
  },
  {
   "cell_type": "code",
   "execution_count": 27,
   "metadata": {},
   "outputs": [
    {
     "data": {
      "text/plain": [
       "(28, 28, 1)"
      ]
     },
     "execution_count": 27,
     "metadata": {},
     "output_type": "execute_result"
    }
   ],
   "source": [
    "x_train[41999].shape"
   ]
  },
  {
   "cell_type": "code",
   "execution_count": 55,
   "metadata": {},
   "outputs": [],
   "source": [
    "x_tr,x_val,y_tr,y_val = train_test_split(x_train,y_train,test_size=0.1,random_state=32)"
   ]
  },
  {
   "cell_type": "code",
   "execution_count": null,
   "metadata": {},
   "outputs": [],
   "source": []
  },
  {
   "cell_type": "code",
   "execution_count": 36,
   "metadata": {},
   "outputs": [
    {
     "data": {
      "text/plain": [
       "<matplotlib.image.AxesImage at 0x7f361f872910>"
      ]
     },
     "execution_count": 36,
     "metadata": {},
     "output_type": "execute_result"
    },
    {
     "data": {
      "image/png": "[encoded data removed]",
      "text/plain": [
       "<Figure size 432x288 with 1 Axes>"
      ]
     },
     "metadata": {
      "needs_background": "light"
     },
     "output_type": "display_data"
    }
   ],
   "source": [
    "plt.imshow(x_train[2000][:,:,0],cmap = 'gray')"
   ]
  },
  {
   "cell_type": "markdown",
   "metadata": {},
   "source": [
    "**DEFINE A MODEL**"
   ]
  },
  {
   "cell_type": "code",
   "execution_count": 69,
   "metadata": {},
   "outputs": [],
   "source": [
    "ip = Input(shape=(28,28,1))\n",
    "conv1 = Conv2D(filters = 32,kernel_size = 5,strides=(1,1),activation='relu')(ip)\n",
    "pool1 = MaxPool2D(pool_size = (2,2),strides=2)(conv1)\n",
    "drop1 = Dropout(rate=0.5)(pool1)\n",
    "conv2 = Conv2D(filters = 64,kernel_size = 3,strides=(1,1),activation='relu')(drop1)\n",
    "pool2 = MaxPool2D(pool_size = (2,2),strides=2)(conv2)\n",
    "drop2 = Dropout(rate=0.5)(pool2)\n",
    "flat1 = Flatten()(drop2)\n",
    "fc1 = Dense(512,activation='relu')(flat1)\n",
    "out = Dense(10,activation = 'softmax')(fc1)\n",
    "model = Model(inputs=ip,outputs=out)"
   ]
  },
  {
   "cell_type": "code",
   "execution_count": 70,
   "metadata": {},
   "outputs": [
    {
     "name": "stdout",
     "output_type": "stream",
     "text": [
      "Model: \"model_2\"\n",
      "_________________________________________________________________\n",
      "Layer (type)                 Output Shape              Param #   \n",
      "=================================================================\n",
      "input_6 (InputLayer)         (None, 28, 28, 1)         0         \n",
      "_________________________________________________________________\n",
      "conv2d_8 (Conv2D)            (None, 24, 24, 32)        832       \n",
      "_________________________________________________________________\n",
      "max_pooling2d_8 (MaxPooling2 (None, 12, 12, 32)        0         \n",
      "_________________________________________________________________\n",
      "dropout_1 (Dropout)          (None, 12, 12, 32)        0         \n",
      "_________________________________________________________________\n",
      "conv2d_9 (Conv2D)            (None, 10, 10, 64)        18496     \n",
      "_________________________________________________________________\n",
      "max_pooling2d_9 (MaxPooling2 (None, 5, 5, 64)          0         \n",
      "_________________________________________________________________\n",
      "dropout_2 (Dropout)          (None, 5, 5, 64)          0         \n",
      "_________________________________________________________________\n",
      "flatten_4 (Flatten)          (None, 1600)              0         \n",
      "_________________________________________________________________\n",
      "dense_5 (Dense)              (None, 512)               819712    \n",
      "_________________________________________________________________\n",
      "dense_6 (Dense)              (None, 10)                5130      \n",
      "=================================================================\n",
      "Total params: 844,170\n",
      "Trainable params: 844,170\n",
      "Non-trainable params: 0\n",
      "_________________________________________________________________\n"
     ]
    }
   ],
   "source": [
    "model.summary()"
   ]
  },
  {
   "cell_type": "code",
   "execution_count": 71,
   "metadata": {},
   "outputs": [],
   "source": [
    "optim = RMSprop()\n",
    "model.compile(optimizer=optim,loss = 'categorical_crossentropy',metrics=['accuracy'])\n"
   ]
  },
  {
   "cell_type": "code",
   "execution_count": 72,
   "metadata": {},
   "outputs": [],
   "source": [
    "learning_rate_reduction = ReduceLROnPlateau(monitor='val_accuracy', \n",
    "                                            patience=3, \n",
    "                                            verbose=1, \n",
    "                                            factor=0.5, \n",
    "                                            min_lr=0.00001)"
   ]
  },
  {
   "cell_type": "code",
   "execution_count": 73,
   "metadata": {},
   "outputs": [],
   "source": [
    "datagen = ImageDataGenerator(rotation_range=10,width_shift_range=0.1,height_shift_range=0.1,zoom_range=0.1)\n",
    "datagen.fit(x_tr)"
   ]
  },
  {
   "cell_type": "code",
   "execution_count": 74,
   "metadata": {},
   "outputs": [
    {
     "name": "stdout",
     "output_type": "stream",
     "text": [
      "Epoch 1/10\n",
      " - 11s - loss: 1.7932 - accuracy: 0.3615 - val_loss: 0.8402 - val_accuracy: 0.7481\n",
      "Epoch 2/10\n",
      " - 12s - loss: 1.1748 - accuracy: 0.6049 - val_loss: 0.6134 - val_accuracy: 0.8164\n",
      "Epoch 3/10\n",
      " - 12s - loss: 0.8518 - accuracy: 0.7191 - val_loss: 0.4318 - val_accuracy: 0.8721\n",
      "Epoch 4/10\n",
      " - 12s - loss: 0.6492 - accuracy: 0.7886 - val_loss: 0.3012 - val_accuracy: 0.9167\n",
      "Epoch 5/10\n",
      " - 11s - loss: 0.5276 - accuracy: 0.8283 - val_loss: 0.2521 - val_accuracy: 0.9312\n",
      "Epoch 6/10\n",
      " - 11s - loss: 0.4477 - accuracy: 0.8558 - val_loss: 0.1985 - val_accuracy: 0.9490\n",
      "Epoch 7/10\n",
      " - 11s - loss: 0.3967 - accuracy: 0.8729 - val_loss: 0.1802 - val_accuracy: 0.9526\n",
      "Epoch 8/10\n",
      " - 11s - loss: 0.3548 - accuracy: 0.8868 - val_loss: 0.1577 - val_accuracy: 0.9583\n",
      "Epoch 9/10\n",
      " - 11s - loss: 0.3291 - accuracy: 0.8963 - val_loss: 0.1504 - val_accuracy: 0.9626\n",
      "Epoch 10/10\n",
      " - 11s - loss: 0.3037 - accuracy: 0.9023 - val_loss: 0.1361 - val_accuracy: 0.9619\n"
     ]
    },
    {
     "data": {
      "text/plain": [
       "<keras.callbacks.callbacks.History at 0x7f35d765a1d0>"
      ]
     },
     "execution_count": 74,
     "metadata": {},
     "output_type": "execute_result"
    }
   ],
   "source": [
    "model.fit_generator(datagen.flow(x_tr,y_tr,batch_size=128),epochs=10,validation_data=(x_val,y_val),verbose=2,steps_per_epoch=x_tr.shape[0] // 128\n",
    "                              , callbacks=[learning_rate_reduction])"
   ]
  },
  {
   "cell_type": "code",
   "execution_count": 81,
   "metadata": {},
   "outputs": [],
   "source": [
    "from sklearn.metrics import confusion_matrix\n",
    "y_pred = model.predict(x_val)\n",
    "y_pred_c = np.argmax(y_pred,axis=1)\n",
    "y_true = np.argmax(y_val,axis=1)"
   ]
  },
  {
   "cell_type": "code",
   "execution_count": 83,
   "metadata": {},
   "outputs": [],
   "source": [
    "cm = confusion_matrix(y_true,y_pred_c)"
   ]
  },
  {
   "cell_type": "code",
   "execution_count": 84,
   "metadata": {},
   "outputs": [
    {
     "data": {
      "text/plain": [
       "array([[404,   0,   0,   0,   0,   0,   1,   0,   2,   0],\n",
       "       [  1, 468,   8,   1,   1,   0,   0,   0,   2,   0],\n",
       "       [  2,   2, 379,   2,   0,   0,   2,   4,   1,   1],\n",
       "       [  1,   0,   7, 423,   0,   6,   0,   3,   3,   6],\n",
       "       [  0,   0,   0,   0, 377,   1,   5,   2,   0,   7],\n",
       "       [  0,   0,   0,   4,   0, 379,   7,   2,   1,   2],\n",
       "       [  1,   0,   0,   0,   0,   2, 440,   0,   1,   0],\n",
       "       [  0,   0,   5,   0,   0,   1,   0, 396,   0,  13],\n",
       "       [  5,   3,   3,   3,   3,   2,   4,   4, 372,   7],\n",
       "       [  0,   0,   2,   8,   2,   0,   0,   3,   1, 402]])"
      ]
     },
     "execution_count": 84,
     "metadata": {},
     "output_type": "execute_result"
    }
   ],
   "source": [
    "cm"
   ]
  },
  {
   "cell_type": "code",
   "execution_count": 86,
   "metadata": {},
   "outputs": [
    {
     "data": {
      "text/plain": [
       "0.9619047619047619"
      ]
     },
     "execution_count": 86,
     "metadata": {},
     "output_type": "execute_result"
    }
   ],
   "source": [
    "from sklearn.metrics import accuracy_score\n",
    "accuracy_score(y_true,y_pred_c)"
   ]
  },
  {
   "cell_type": "code",
   "execution_count": null,
   "metadata": {},
   "outputs": [],
   "source": []
  }
 ],
 "metadata": {
  "kernelspec": {
   "display_name": "Python 3",
   "language": "python",
   "name": "python3"
  },
  "language_info": {
   "codemirror_mode": {
    "name": "ipython",
    "version": 3
   },
   "file_extension": ".py",
   "mimetype": "text/x-python",
   "name": "python",
   "nbconvert_exporter": "python",
   "pygments_lexer": "ipython3",
   "version": "3.7.6"
  }
 },
 "nbformat": 4,
 "nbformat_minor": 4
}
